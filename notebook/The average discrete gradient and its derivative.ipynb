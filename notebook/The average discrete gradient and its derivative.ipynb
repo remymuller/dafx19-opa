{
 "cells": [
  {
   "cell_type": "markdown",
   "metadata": {},
   "source": [
    "# The average discrete gradient and its derivative\n",
    "\n",
    "Let $N$ be a potential and $\\nabla N$ its gradient, the average discrete gradient is defined for $v_1 \\neq v_0$ by"
   ]
  },
  {
   "cell_type": "markdown",
   "metadata": {},
   "source": [
    "$$\n",
    "\\overline \\nabla N(v_0, v_1) \n",
    ":= \\int_0^1 \\nabla N(v_0 + \\tau (v_1 - v_0)) d \\tau \n",
    "$$\n",
    "\n",
    "## scalar potentials\n",
    "for $v_1 \\neq v_0$ this gives\n",
    "$$\n",
    "\\overline \\nabla N(v_0, v_1) \n",
    "= \\frac{1}{v_1 - v_0} \\int_{v_0}^{v_1} \\nabla N(v) dv\n",
    "= \\frac{N(v_1) - N(v_0)}{v_1 - v_0},\n",
    "$$\n",
    "and for $v_0=v_1$\n",
    "$$\n",
    "\\overline \\nabla N(v_0, v_0) := \\lim_{v_1 \\to v_0} \\overline \\nabla N(v_0, v_0) = \\nabla N(v_0)\n",
    "$$\n",
    "\n"
   ]
  },
  {
   "cell_type": "markdown",
   "metadata": {},
   "source": [
    "## Derivative of the average discrete gradient\n",
    "\n",
    "taking its derivative with respect to $v_1$ gives\n",
    "\n",
    "for $v_1 \\neq v_0$\n",
    "$$\n",
    "\\frac{\\partial \\overline \\nabla N}{\\partial v_1}(v_0, v_1) \n",
    "= \n",
    "\\frac{\\nabla N(v_1) - \\overline \\nabla N(v_0,v_1)}{v_1 - v_0}\n",
    "$$\n",
    "and for $v_1 = v_0$\n",
    "$$\n",
    "\\frac{\\partial \\overline \\nabla N}{\\partial v_1}(v_0, v_0) \n",
    "= \n",
    "\\frac{1}{2} \\nabla^2 N(v_0) \n",
    "$$\n",
    "\n",
    "### proof\n",
    "when $v_0 \\neq v_1$, using the identity $(u/v)' = (u'v - uv')/v^2$ yields\n",
    "\n",
    "$$\n",
    "\\begin{align}\n",
    "\\frac{\\partial \\overline \\nabla N}{\\partial v_1}(v_0, v_1) \n",
    "&= \\frac{\\nabla N(v_1)(v_1 - v_0) - (N(v_1) - N(v_0))}{(v_1-v_0)^2} \n",
    "= \\frac{\\nabla N(v_1) - \\overline \\nabla N(v_0,v_1)}{v_1 - v_0}\n",
    "\\end{align}\n",
    "$$"
   ]
  },
  {
   "cell_type": "markdown",
   "metadata": {},
   "source": [
    "For $v_0 = v_1$\n",
    "\n",
    "$$\n",
    "\\frac{\\partial \\overline \\nabla N}{\\partial v_1}(v_0, v_0)  = \\lim_{v_1 \\to v_0} \\frac{\\partial \\overline \\nabla N}{\\partial v_1}(v_0, v_1)\n",
    "$$"
   ]
  },
  {
   "cell_type": "markdown",
   "metadata": {},
   "source": [
    "using taylor series expansions of $N$ and $\\nabla N$ yields\n",
    "\n",
    "$$\n",
    "N(v_1) - N(v_0) = \\nabla N(v_0) (v_1 - v_0) + \\nabla^2 N(v_0) (v_1 - v_0)^2/2! + O((v_1 - v_0)^3)\n",
    "$$\n",
    "\n",
    "and\n",
    "\n",
    "$$\n",
    "\\nabla N(v_1) = \\nabla N(v_0) + \\nabla^2 N(v_0) (v_1 - v_0) + O((v_1 - v_0)^2)\n",
    "$$\n",
    "\n",
    "after substitution, this leads to\n",
    "\n",
    "$$\n",
    "\\frac{\\partial \\overline \\nabla N}{\\partial v_1}(v_0, v_1) \n",
    "= \\frac{(\\nabla N(v_0)(v_1 - v_0) + \\nabla^2 N(v_0) (v_1 - v_0)^2 + O((v_1 - v_0)^3)) - (\\nabla N(v_0) (v_1 - v_0) + \\nabla^2 N(v_0) (v_1 - v_0)^2/2 + O((v_1 - v_0)^3))}{(v_1-v_0)^2} \n",
    "$$"
   ]
  },
  {
   "cell_type": "markdown",
   "metadata": {},
   "source": [
    "and after simplification it remains\n",
    "$$\n",
    "\\frac{\\partial \\overline \\nabla N}{\\partial v_1}(v_0, v_1) \n",
    "= \\frac{1}{2} \\nabla^2 N(v_0) + O(v_1 - v_0)\n",
    "$$"
   ]
  },
  {
   "cell_type": "markdown",
   "metadata": {},
   "source": [
    "taking the limit $v_1 \\to v_0$ gives\n",
    "\n",
    "$$\n",
    "\\frac{\\partial \\overline \\nabla N}{\\partial v_1}(v_0, v_0) \n",
    "= \\lim_{v_1 \\to v_0} \\frac{\\partial \\overline \\nabla N}{\\partial v_1}(v_0, v_1)\n",
    "= \\frac{1}{2} \\nabla^2 N(v_0) \n",
    "$$"
   ]
  },
  {
   "cell_type": "code",
   "execution_count": null,
   "metadata": {},
   "outputs": [],
   "source": []
  }
 ],
 "metadata": {
  "kernelspec": {
   "display_name": "Python 3",
   "language": "python",
   "name": "python3"
  },
  "language_info": {
   "codemirror_mode": {
    "name": "ipython",
    "version": 3
   },
   "file_extension": ".py",
   "mimetype": "text/x-python",
   "name": "python",
   "nbconvert_exporter": "python",
   "pygments_lexer": "ipython3",
   "version": "3.6.5"
  }
 },
 "nbformat": 4,
 "nbformat_minor": 2
}
